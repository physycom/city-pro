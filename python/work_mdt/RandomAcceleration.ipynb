{
 "cells": [
  {
   "cell_type": "code",
   "execution_count": null,
   "metadata": {},
   "outputs": [],
   "source": [
    "import numpy as np\n",
    "class RandomRealization:\n",
    "    def __init__(self):\n",
    "        pass\n",
    "class RandomProcess:\n",
    "    def __init__(self):\n",
    "        pass\n",
    "\n",
    "class Particle:\n",
    "    def __init__(self,):\n",
    "        self.current_position: np.ndarray # Dimension of the space.\n",
    "        self.current_velocity: np.ndarray \n",
    "        self.current_time: int\n",
    "    def Init_Random_Speed(self):\n",
    "        self.present_velocity = np.random.randn(self.present_position.shape[0])\n",
    "        pass\n",
    "    \n",
    "    def Init_Required_Speed(self,speed):\n",
    "        self.present_velocity = speed\n",
    "        pass\n",
    "\n",
    "    def move(self,acceleration):\n",
    "        self."
   ]
  },
  {
   "cell_type": "markdown",
   "metadata": {},
   "source": [
    "# Random Acceleration"
   ]
  },
  {
   "cell_type": "code",
   "execution_count": null,
   "metadata": {},
   "outputs": [],
   "source": [
    "ensemble_size = 1000\n",
    "for i in range(ensemble_size):\n",
    "    yield RandomProcess(id_ = i)\n"
   ]
  },
  {
   "cell_type": "markdown",
   "metadata": {},
   "source": []
  }
 ],
 "metadata": {
  "kernelspec": {
   "display_name": "geostuff",
   "language": "python",
   "name": "python3"
  },
  "language_info": {
   "codemirror_mode": {
    "name": "ipython",
    "version": 3
   },
   "file_extension": ".py",
   "mimetype": "text/x-python",
   "name": "python",
   "nbconvert_exporter": "python",
   "pygments_lexer": "ipython3",
   "version": "3.12.2"
  }
 },
 "nbformat": 4,
 "nbformat_minor": 2
}
