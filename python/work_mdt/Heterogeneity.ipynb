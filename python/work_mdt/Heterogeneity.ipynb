{
 "cells": [
  {
   "cell_type": "code",
   "execution_count": null,
   "metadata": {},
   "outputs": [],
   "source": [
    "from Heterogeneity import *\n",
    "import os\n",
    "name_project = \"bologna_mdt_center\"\n",
    "base_name = \"bologna_mdt\"\n",
    "base_dir = os.path.join(os.environ[\"WORKSPACE\"],\"city-pro\",\"output\",name_project)\n",
    "column_feature = \"length_km\"\n",
    "column_order = \"class\"\n",
    "cut_x = {\"bottom\":0.1,\"top\":10}\n",
    "\n",
    "for date in [\"2022-01-31\",\"2022-07-01\",\"2022-08-05\",\"2022-11-11\",\"2022-12-30\",\"2022-12-31\",\"2023-01-01\",\"2023-03-18\"]:\n",
    "    Fcm_file_name = os.path.join(base_dir,f\"{base_name}_{date}_{date}_fcm.csv\")\n",
    "    Fcm = pl.read_csv(\"/path/to/fcm/fcm.csv\")\n",
    "    ht = HeterogeneousPowerLaw(Fcm,\n",
    "                            column_feature,\n",
    "                            column_order,\n",
    "                            cut_x = cut_x,\n",
    "                            bins = 100\n",
    "                            )\n"
   ]
  }
 ],
 "metadata": {
  "kernelspec": {
   "display_name": "geostuff",
   "language": "python",
   "name": "python3"
  },
  "language_info": {
   "name": "python",
   "version": "3.12.2"
  }
 },
 "nbformat": 4,
 "nbformat_minor": 2
}
