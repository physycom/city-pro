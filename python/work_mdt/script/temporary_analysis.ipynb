{
 "cells": [
  {
   "cell_type": "code",
   "execution_count": null,
   "metadata": {},
   "outputs": [],
   "source": [
    "import pandas as pd\n",
    "d = pd.read_csv(r'G:\\mdt bologna\\dati_decompressi_ad_aprile\\febbraio.csv',',',chunksize=100000)\n",
    "call_id = []\n",
    "enb_id = []\n",
    "mme_id = []\n",
    "for i, chunk in enumerate(d):\n",
    "    if i <5:\n",
    "        call_id.extend(chunk.sort_values(by='CALL_ID')['CALL_ID'].to_numpy())\n",
    "        enb_id.extend(chunk.sort_values(by='ENB_UE_S1AP_ID')['ENB_UE_S1AP_ID'].to_numpy())\n",
    "        mme_id.extend(chunk.sort_values(by='MME_UE_S1AP_ID')['MME_UE_S1AP_ID'].to_numpy())\n",
    "\n",
    "print(\"considered: \",5/i,\" of total data points\")\n",
    "call_id_in_enb = []\n",
    "for k in call_id:\n",
    "    for k1 in enb_id:\n",
    "        if k==k1:\n",
    "            call_id_in_enb.append(k)\n",
    "        elif k<k1:\n",
    "            break\n",
    "            \n",
    "print(\"fraction of call id in enb: \",len(call_id_in_enb)/len(call_id))\n",
    "call_id_in_mme = []\n",
    "for k in call_id:\n",
    "    for k1 in mme_id:\n",
    "        if k==k1:\n",
    "            call_id_in_mme.append(k)\n",
    "        elif k<k1:\n",
    "            break    \n",
    "print(\"fraction of call id in mme: \",len(call_id_in_mme)/len(call_id))"
   ]
  },
  {
   "cell_type": "code",
   "execution_count": null,
   "metadata": {},
   "outputs": [],
   "source": []
  }
 ],
 "metadata": {
  "kernelspec": {
   "display_name": "base",
   "language": "python",
   "name": "python3"
  },
  "language_info": {
   "name": "python",
   "version": "3.9.12"
  },
  "orig_nbformat": 4
 },
 "nbformat": 4,
 "nbformat_minor": 2
}
