{
 "cells": [
  {
   "cell_type": "code",
   "execution_count": null,
   "metadata": {},
   "outputs": [],
   "source": [
    "import numpy as np\n",
    "\n",
    "class RandomProcess:\n",
    "    def __init__(self):\n",
    "        pass\n",
    "\n",
    "class Particle:\n",
    "    def __init__(self,):\n",
    "        self.present_position: np.ndarray # Dimension of the space.\n",
    "        self.present_velocity: np.ndarray \n",
    "        self.present_time: int\n",
    "\n",
    "    def Init_Random_Speed(self):\n",
    "        self.present_velocity = np.random.randn(self.present_position.shape[0])\n",
    "        pass\n",
    "    \n",
    "    def Init_Required_Speed(self,speed):\n",
    "        self.present_velocity = speed\n",
    "        pass\n",
    "\n",
    "    def move(self,acceleration):\n",
    "        "
   ]
  }
 ],
 "metadata": {
  "language_info": {
   "name": "python"
  }
 },
 "nbformat": 4,
 "nbformat_minor": 2
}
