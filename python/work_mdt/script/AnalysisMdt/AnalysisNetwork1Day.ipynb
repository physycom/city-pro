{
 "cells": [
  {
   "cell_type": "code",
   "execution_count": 10,
   "metadata": {},
   "outputs": [],
   "source": [
    "import pandas as pd\n",
    "import json\n",
    "import os\n",
    "with open(\"/home/aamad/Desktop/phd/codice/city-pro/config/ConfigPythonAnalysis.json\",\"r\") as f:\n",
    "    Dict =json.load(f)\n",
    "df = pd.read_csv(os.path.join(Dict[\"InputBaseDir\"],Dict[\"base_name\"] + '_' + Dict[\"StrDates\"][3] + '_' + Dict['StrDates'][3] + '_fcm_centers.csv'),delimiter = \";\")"
   ]
  },
  {
   "cell_type": "code",
   "execution_count": 13,
   "metadata": {},
   "outputs": [
    {
     "data": {
      "text/html": [
       "<div>\n",
       "<style scoped>\n",
       "    .dataframe tbody tr th:only-of-type {\n",
       "        vertical-align: middle;\n",
       "    }\n",
       "\n",
       "    .dataframe tbody tr th {\n",
       "        vertical-align: top;\n",
       "    }\n",
       "\n",
       "    .dataframe thead th {\n",
       "        text-align: right;\n",
       "    }\n",
       "</style>\n",
       "<table border=\"1\" class=\"dataframe\">\n",
       "  <thead>\n",
       "    <tr style=\"text-align: right;\">\n",
       "      <th></th>\n",
       "      <th>0</th>\n",
       "      <th>1.89267</th>\n",
       "      <th>2.87332</th>\n",
       "      <th>1.02209</th>\n",
       "      <th>0.692444</th>\n",
       "      <th>24403</th>\n",
       "    </tr>\n",
       "  </thead>\n",
       "  <tbody>\n",
       "    <tr>\n",
       "      <th>0</th>\n",
       "      <td>1</td>\n",
       "      <td>7.27147</td>\n",
       "      <td>11.6923</td>\n",
       "      <td>3.12756</td>\n",
       "      <td>0.717426</td>\n",
       "      <td>22382</td>\n",
       "    </tr>\n",
       "    <tr>\n",
       "      <th>1</th>\n",
       "      <td>2</td>\n",
       "      <td>14.32140</td>\n",
       "      <td>24.4377</td>\n",
       "      <td>5.47434</td>\n",
       "      <td>0.768772</td>\n",
       "      <td>39046</td>\n",
       "    </tr>\n",
       "    <tr>\n",
       "      <th>2</th>\n",
       "      <td>3</td>\n",
       "      <td>27.93960</td>\n",
       "      <td>42.6390</td>\n",
       "      <td>16.62980</td>\n",
       "      <td>0.883199</td>\n",
       "      <td>12009</td>\n",
       "    </tr>\n",
       "  </tbody>\n",
       "</table>\n",
       "</div>"
      ],
      "text/plain": [
       "   0   1.89267  2.87332   1.02209  0.692444  24403\n",
       "0  1   7.27147  11.6923   3.12756  0.717426  22382\n",
       "1  2  14.32140  24.4377   5.47434  0.768772  39046\n",
       "2  3  27.93960  42.6390  16.62980  0.883199  12009"
      ]
     },
     "execution_count": 13,
     "metadata": {},
     "output_type": "execute_result"
    }
   ],
   "source": [
    "df"
   ]
  },
  {
   "cell_type": "code",
   "execution_count": null,
   "metadata": {},
   "outputs": [],
   "source": []
  }
 ],
 "metadata": {
  "kernelspec": {
   "display_name": "geostuff",
   "language": "python",
   "name": "python3"
  },
  "language_info": {
   "codemirror_mode": {
    "name": "ipython",
    "version": 3
   },
   "file_extension": ".py",
   "mimetype": "text/x-python",
   "name": "python",
   "nbconvert_exporter": "python",
   "pygments_lexer": "ipython3",
   "version": "3.12.2"
  }
 },
 "nbformat": 4,
 "nbformat_minor": 2
}
