{
 "cells": [
  {
   "cell_type": "code",
   "execution_count": 10,
   "metadata": {},
   "outputs": [],
   "source": [
    "import pandas as pd\n",
    "import json\n",
    "import os\n",
    "with open(\"/home/aamad/Desktop/phd/codice/city-pro/config/ConfigPythonAnalysis.json\",\"r\") as f:\n",
    "    Dict =json.load(f)\n",
    "df = pd.read_csv(os.path.join(Dict[\"InputBaseDir\"],Dict[\"base_name\"] + '_' + Dict[\"StrDates\"][3] + '_' + Dict['StrDates'][3] + '_fcm_centers.csv'),delimiter = \";\")"
   ]
  },
  {
   "cell_type": "code",
   "execution_count": 14,
   "metadata": {},
   "outputs": [
    {
     "name": "stdout",
     "output_type": "stream",
     "text": [
      "   value_to_bin  value_to_average  bins\n",
      "0            10                 5  Bin4\n",
      "1             6                 3  Bin3\n",
      "2             1                 6  Bin1\n",
      "3             6                 2  Bin3\n",
      "4             5                 7  Bin2\n",
      "5             6                 4  Bin3\n",
      "6             7                 8  Bin3\n",
      "7             8                 1  Bin3\n",
      "8             9                 9  Bin4\n",
      "9            10                 2  Bin4\n",
      "   bins  value_to_average\n",
      "0  Bin1          6.000000\n",
      "1  Bin2          7.000000\n",
      "2  Bin3          3.600000\n",
      "3  Bin4          5.333333\n"
     ]
    },
    {
     "name": "stderr",
     "output_type": "stream",
     "text": [
      "/tmp/ipykernel_37565/3532013409.py:17: FutureWarning: The default of observed=False is deprecated and will be changed to True in a future version of pandas. Pass observed=False to retain current behavior or observed=True to adopt the future default and silence this warning.\n",
      "  result = df.groupby('bins')['value_to_average'].mean().reset_index()\n"
     ]
    }
   ],
   "source": [
    "import pandas as pd\n",
    "\n",
    "# Step 1: Create a sample DataFrame\n",
    "data = {\n",
    "    'value_to_bin': [10, 6, 1, 6, 5, 6, 7, 8, 9, 10],\n",
    "    'value_to_average': [5, 3, 6, 2, 7, 4, 8, 1, 9, 2]\n",
    "}\n",
    "df = pd.DataFrame(data)\n",
    "\n",
    "# Step 2: Bin the data in 'value_to_bin'\n",
    "bins = [0, 3, 6, 9, 12]  # Define bin edges\n",
    "labels = ['Bin1', 'Bin2', 'Bin3', 'Bin4']  # Define bin labels\n",
    "\n",
    "df['bins'] = pd.cut(df['value_to_bin'], bins=bins, labels=labels, right=False)\n",
    "print(df)\n",
    "# Step 3: Group by the bins and compute the average of 'value_to_average'\n",
    "result = df.groupby('bins')['value_to_average'].mean().reset_index()\n",
    "\n",
    "print(result)"
   ]
  },
  {
   "cell_type": "code",
   "execution_count": 1,
   "metadata": {},
   "outputs": [
    {
     "data": {
      "text/plain": [
       "'localhost:0.0'"
      ]
     },
     "execution_count": 1,
     "metadata": {},
     "output_type": "execute_result"
    }
   ],
   "source": [
    "import os\n",
    "os.environ[\"DISPLAY\"]"
   ]
  },
  {
   "cell_type": "code",
   "execution_count": 8,
   "metadata": {},
   "outputs": [
    {
     "name": "stdout",
     "output_type": "stream",
     "text": [
      "\n",
      "shape: (6, 2)\n",
      "┌────────┬─────────────────────┐\n",
      "│ values ┆ values2bconditioned │\n",
      "│ ---    ┆ ---                 │\n",
      "│ i64    ┆ i64                 │\n",
      "╞════════╪═════════════════════╡\n",
      "│ 1      ┆ 1                   │\n",
      "│ 2      ┆ 2                   │\n",
      "│ 1      ┆ 1                   │\n",
      "│ 2      ┆ 2                   │\n",
      "│ 1      ┆ 1                   │\n",
      "│ 2      ┆ 2                   │\n",
      "└────────┴─────────────────────┘\n",
      "\n",
      "shape: (6, 2)\n",
      "┌────────┬─────────────────────┐\n",
      "│ values ┆ values2bconditioned │\n",
      "│ ---    ┆ ---                 │\n",
      "│ i64    ┆ i64                 │\n",
      "╞════════╪═════════════════════╡\n",
      "│ 3      ┆ 3                   │\n",
      "│ 4      ┆ 4                   │\n",
      "│ 3      ┆ 3                   │\n",
      "│ 4      ┆ 4                   │\n",
      "│ 3      ┆ 3                   │\n",
      "│ 4      ┆ 4                   │\n",
      "└────────┴─────────────────────┘\n",
      "\n",
      "shape: (6, 2)\n",
      "┌────────┬─────────────────────┐\n",
      "│ values ┆ values2bconditioned │\n",
      "│ ---    ┆ ---                 │\n",
      "│ i64    ┆ i64                 │\n",
      "╞════════╪═════════════════════╡\n",
      "│ 5      ┆ 5                   │\n",
      "│ 6      ┆ 6                   │\n",
      "│ 5      ┆ 5                   │\n",
      "│ 6      ┆ 6                   │\n",
      "│ 5      ┆ 5                   │\n",
      "│ 6      ┆ 6                   │\n",
      "└────────┴─────────────────────┘\n",
      "\n",
      "shape: (6, 2)\n",
      "┌────────┬─────────────────────┐\n",
      "│ values ┆ values2bconditioned │\n",
      "│ ---    ┆ ---                 │\n",
      "│ i64    ┆ i64                 │\n",
      "╞════════╪═════════════════════╡\n",
      "│ 7      ┆ 7                   │\n",
      "│ 8      ┆ 8                   │\n",
      "│ 7      ┆ 7                   │\n",
      "│ 8      ┆ 8                   │\n",
      "│ 7      ┆ 7                   │\n",
      "│ 8      ┆ 8                   │\n",
      "└────────┴─────────────────────┘\n",
      "\n",
      "shape: (6, 2)\n",
      "┌────────┬─────────────────────┐\n",
      "│ values ┆ values2bconditioned │\n",
      "│ ---    ┆ ---                 │\n",
      "│ i64    ┆ i64                 │\n",
      "╞════════╪═════════════════════╡\n",
      "│ 9      ┆ 9                   │\n",
      "│ 10     ┆ 10                  │\n",
      "│ 9      ┆ 9                   │\n",
      "│ 10     ┆ 10                  │\n",
      "│ 9      ┆ 9                   │\n",
      "│ 10     ┆ 10                  │\n",
      "└────────┴─────────────────────┘\n"
     ]
    },
    {
     "ename": "AttributeError",
     "evalue": "'Expr' object has no attribute 'bucket'",
     "output_type": "error",
     "traceback": [
      "\u001b[0;31m---------------------------------------------------------------------------\u001b[0m",
      "\u001b[0;31mAttributeError\u001b[0m                            Traceback (most recent call last)",
      "Cell \u001b[0;32mIn[8], line 18\u001b[0m\n\u001b[1;32m     15\u001b[0m     \u001b[38;5;28mprint\u001b[39m()\n\u001b[1;32m     16\u001b[0m     \u001b[38;5;28mprint\u001b[39m(df\u001b[38;5;241m.\u001b[39mfilter((pl\u001b[38;5;241m.\u001b[39mcol(\u001b[38;5;124m\"\u001b[39m\u001b[38;5;124mvalues\u001b[39m\u001b[38;5;124m\"\u001b[39m)\u001b[38;5;241m>\u001b[39m\u001b[38;5;241m=\u001b[39m bins[i]) \u001b[38;5;241m&\u001b[39m (pl\u001b[38;5;241m.\u001b[39mcol(\u001b[38;5;124m\"\u001b[39m\u001b[38;5;124mvalues\u001b[39m\u001b[38;5;124m\"\u001b[39m)\u001b[38;5;241m<\u001b[39m\u001b[38;5;241m=\u001b[39m bins[i\u001b[38;5;241m+\u001b[39m\u001b[38;5;241m1\u001b[39m])))\n\u001b[1;32m     17\u001b[0m df \u001b[38;5;241m=\u001b[39m df\u001b[38;5;241m.\u001b[39mwith_columns(\n\u001b[0;32m---> 18\u001b[0m     pl\u001b[38;5;241m.\u001b[39mcol(\u001b[38;5;124m\"\u001b[39m\u001b[38;5;124mvalues\u001b[39m\u001b[38;5;124m\"\u001b[39m), \u001b[43mpl\u001b[49m\u001b[38;5;241;43m.\u001b[39;49m\u001b[43mcol\u001b[49m\u001b[43m(\u001b[49m\u001b[38;5;124;43m\"\u001b[39;49m\u001b[38;5;124;43mvalues\u001b[39;49m\u001b[38;5;124;43m\"\u001b[39;49m\u001b[43m)\u001b[49m\u001b[38;5;241;43m.\u001b[39;49m\u001b[43mbucket\u001b[49m(\u001b[38;5;241m5\u001b[39m)\u001b[38;5;241m.\u001b[39malias(\u001b[38;5;124m\"\u001b[39m\u001b[38;5;124mbins\u001b[39m\u001b[38;5;124m\"\u001b[39m)\n\u001b[1;32m     19\u001b[0m )\n\u001b[1;32m     21\u001b[0m \u001b[38;5;28mprint\u001b[39m(df)\n",
      "\u001b[0;31mAttributeError\u001b[0m: 'Expr' object has no attribute 'bucket'"
     ]
    }
   ],
   "source": [
    "import polars as pl\n",
    "import numpy as np\n",
    "from collections import defaultdict\n",
    "\n",
    "# Create a DataFrame\n",
    "df = pl.DataFrame({\n",
    "    \"values\": [1, 2, 3, 4, 5, 6, 7, 8, 9, 10,1, 2, 3, 4, 5, 6, 7, 8, 9, 10,1, 2, 3, 4, 5, 6, 7, 8, 9, 10],\n",
    "    \"values2bconditioned\": [1, 2, 3, 4, 5, 6, 7, 8, 9, 10,1, 2, 3, 4, 5, 6, 7, 8, 9, 10,1, 2, 3, 4, 5, 6, 7, 8, 9, 10]\n",
    "})\n",
    "\n",
    "# Create bins for 'values'\n",
    "n,bins = np.histogram(df['values'], bins=5)\n",
    "DictBins2Value = {\"binsvalue\":bins,\"countvalues\":n,\"binsvalues2bconditioned\":[],\"countvalues2bconditioned\":[]}\n",
    "for i in range(len(bins)-1):\n",
    "    print()\n",
    "    print(df.filter((pl.col(\"values\")>= bins[i]) & (pl.col(\"values\")<= bins[i+1])))\n",
    "df = df.with_columns(\n",
    "    pl.col(\"values\"), pl.col(\"values\").bucket(5).alias(\"bins\")\n",
    ")\n",
    "\n",
    "print(df)"
   ]
  },
  {
   "cell_type": "code",
   "execution_count": 1,
   "metadata": {},
   "outputs": [],
   "source": [
    "import geopandas as gpd\n",
    "gdf = gpd.read_file(\"/home/aamad/Desktop/phd/codice/city-pro/city-pro-carto.geojson\")"
   ]
  },
  {
   "cell_type": "code",
   "execution_count": 3,
   "metadata": {},
   "outputs": [
    {
     "data": {
      "text/plain": [
       "5725.53576641327"
      ]
     },
     "execution_count": 3,
     "metadata": {},
     "output_type": "execute_result"
    }
   ],
   "source": [
    "max(gdf[\"poly_length\"])"
   ]
  },
  {
   "cell_type": "code",
   "execution_count": null,
   "metadata": {},
   "outputs": [],
   "source": []
  }
 ],
 "metadata": {
  "kernelspec": {
   "display_name": "geostuff",
   "language": "python",
   "name": "python3"
  },
  "language_info": {
   "codemirror_mode": {
    "name": "ipython",
    "version": 3
   },
   "file_extension": ".py",
   "mimetype": "text/x-python",
   "name": "python",
   "nbconvert_exporter": "python",
   "pygments_lexer": "ipython3",
   "version": "3.12.2"
  }
 },
 "nbformat": 4,
 "nbformat_minor": 2
}
