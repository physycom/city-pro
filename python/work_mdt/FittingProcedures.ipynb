{
 "cells": [
  {
   "cell_type": "markdown",
   "metadata": {},
   "source": [
    "# Demonstration Usage Fitting Procedures"
   ]
  },
  {
   "cell_type": "code",
   "execution_count": null,
   "metadata": {},
   "outputs": [],
   "source": [
    "# Import FittingProcedures\n",
    "from FittingProcedures import *\n",
    "import numpy as np\n",
    "import matplotlib.pyplot as plt\n"
   ]
  },
  {
   "cell_type": "code",
   "execution_count": 4,
   "metadata": {},
   "outputs": [],
   "source": [
    "def PlotDistributionAndFit(x,y,x_fit,y_fit,label_fit,StrFunction):\n",
    "    fig, ax = plt.subplots()\n",
    "    ax.plot(x, y, 'b-', label='data')\n",
    "    ax.plot(x_fit, y_fit, 'r-', label=label_fit)\n",
    "    ax.set_title(StrFunction)\n",
    "    ax.legend(loc='best')\n",
    "    plt.show()\n",
    "\n"
   ]
  },
  {
   "cell_type": "markdown",
   "metadata": {},
   "source": [
    "# PL and EXPO"
   ]
  },
  {
   "cell_type": "code",
   "execution_count": null,
   "metadata": {},
   "outputs": [],
   "source": [
    "import numpy as np\n",
    "from FittingProcedures import *\n",
    "\n",
    "seed = np.random.seed(122)\n",
    "# Gaussian Noise\n",
    "mean = 0\n",
    "std = 10\n",
    "# Length Distribution\n",
    "N = 100\n",
    "Methods2SuccsessPl = {method:0 for method in [\"Nelder-Mead\",\"Powell\",\"CG\",\"BFGS\",\"L-BFGS-B\",\"TNC\",\"COBYLA\",\"SLSQP\",\"trust-constr\",\"dogleg\",\"trust-ncg\",\"trust-exact\",\"trust-krylov\"]}\n",
    "Methods2SuccessExp = {method:0 for method in [\"Nelder-Mead\",\"Powell\",\"CG\",\"BFGS\",\"L-BFGS-B\",\"TNC\",\"COBYLA\",\"SLSQP\",\"trust-constr\",\"dogleg\",\"trust-ncg\",\"trust-exact\",\"trust-krylov\"]}\n",
    "\n",
    "for i in range(100):\n",
    "    gaussian_noise = np.random.normal(mean,std,N)\n",
    "    time_ = np.linspace(0,50,100)\n",
    "    #\n",
    "    Amin = 0\n",
    "    Amax = 1000\n",
    "    A = np.random.uniform(Amin,Amax)\n",
    "    t0min = -5\n",
    "    t0max = 5\n",
    "    t0 = np.random.uniform(t0min,t0max)\n",
    "    # Exponential Decay + Noise\n",
    "    exp_t = A*np.exp(time_*t0) + gaussian_noise\n",
    "    # Power Law Decay + Noise\n",
    "    plaw_t = A*time_**t0 + gaussian_noise\n",
    "    # Construction Integral\n",
    "    dt = np.diff(time_) \n",
    "    # Normalization\n",
    "    Z_exp = np.sum(exp_t[:-1]*dt)\n",
    "    Z_plaw = np.sum(plaw_t[1:-1]*dt[1:])\n",
    "    logger.info(f\"A: {A}, t0: {t0}\")\n",
    "    for method in [\"Nelder-Mead\",\"Powell\",\"CG\",\"BFGS\",\"L-BFGS-B\",\"TNC\",\"COBYLA\",\"SLSQP\"]:\n",
    "        try:\n",
    "            fit,StdError,ConvergenceSuccess,y_fit,x,y_measured = FitAndStdErrorFromXY(time_,plaw_t,\"powerlaw\",(1,-1),maxfev = 100000,interval = [],method = method)\n",
    "            if ConvergenceSuccess:\n",
    "                Methods2SuccsessPl[method] += 1\n",
    "            A_pl,t0_pl = fit[0]\n",
    "            fit,StdError,ConvergenceSuccess,y_fit,x,y_measured = FitAndStdErrorFromXY(time_,exp_t,\"exponential\",(1,-1),maxfev = 100000,interval = [],method = method)\n",
    "            PlotDistributionAndFit(time_,exp_t,time_,y_fit,\"exponential\",method)\n",
    "            if ConvergenceSuccess:\n",
    "                Methods2SuccessExp[method] += 1\n",
    "            A_exp,t0_exp = fit[0]\n",
    "        except:\n",
    "#            print(f\"Method {method} failed\")\n",
    "            pass\n",
    "fig,ax = plt.subplots(1,1,figsize = (10,10))\n",
    "ax.bar(Methods2SuccessExp.keys(),Methods2SuccessExp.values(),label = \"Exponential\")\n",
    "ax.set_xticklabels(Methods2SuccessExp.keys(),rotation = 90)\n",
    "\n"
   ]
  },
  {
   "cell_type": "markdown",
   "metadata": {},
   "source": [
    "# Fit Gauss"
   ]
  },
  {
   "cell_type": "code",
   "execution_count": null,
   "metadata": {},
   "outputs": [],
   "source": [
    "seed = np.random.seed(122)\n",
    "# Gaussian Noise\n",
    "mean = 0\n",
    "std = 10\n",
    "# Length Distribution\n",
    "N = 100\n",
    "Methods2SuccsessPl = {method:0 for method in [\"Nelder-Mead\",\"Powell\",\"CG\",\"BFGS\",\"L-BFGS-B\",\"TNC\",\"COBYLA\",\"SLSQP\",\"trust-constr\",\"dogleg\",\"trust-ncg\",\"trust-exact\",\"trust-krylov\"]}\n",
    "Methods2SuccessExp = {method:0 for method in [\"Nelder-Mead\",\"Powell\",\"CG\",\"BFGS\",\"L-BFGS-B\",\"TNC\",\"COBYLA\",\"SLSQP\",\"trust-constr\",\"dogleg\",\"trust-ncg\",\"trust-exact\",\"trust-krylov\"]}\n",
    "\n",
    "for i in range(100):\n",
    "    gaussian_noise = np.random.normal(mean,std,N)\n",
    "    time_ = np.linspace(0,50,100)\n",
    "    #\n",
    "    Amin = 0\n",
    "    Amax = 1000\n",
    "    A = np.random.uniform(Amin,Amax)\n",
    "    t0min = -5\n",
    "    t0max = 5\n",
    "    t0 = np.random.uniform(t0min,t0max)\n",
    "    # Exponential Decay + Noise\n",
    "    gauss_t = A*np.exp((time_-mu_t)**2*t0) + gaussian_noise\n",
    "    # Power Law Decay + Noise\n",
    "    plaw_t = A*time_**t0 + gaussian_noise\n",
    "    # Construction Integral\n",
    "    dt = np.diff(time_) \n",
    "    # Normalization\n",
    "    Z_exp = np.sum(exp_t[:-1]*dt)\n",
    "    Z_plaw = np.sum(plaw_t[1:-1]*dt[1:])\n",
    "    logger.info(f\"A: {A}, t0: {t0}\")\n",
    "    for method in [\"Nelder-Mead\",\"Powell\",\"CG\",\"BFGS\",\"L-BFGS-B\",\"TNC\",\"COBYLA\",\"SLSQP\"]:\n",
    "        try:\n",
    "            fit,StdError,ConvergenceSuccess,y_fit,x,y_measured = FitAndStdErrorFromXY(time_,plaw_t,\"powerlaw\",(1,-1),maxfev = 100000,interval = [],method = method)\n",
    "            if ConvergenceSuccess:\n",
    "                Methods2SuccsessPl[method] += 1\n",
    "            A_pl,t0_pl = fit[0]\n",
    "            fit,StdError,ConvergenceSuccess,y_fit,x,y_measured = FitAndStdErrorFromXY(time_,exp_t,\"exponential\",(1,-1),maxfev = 100000,interval = [],method = method)\n",
    "            PlotDistributionAndFit(time_,exp_t,time_,y_fit,\"exponential\",method)\n",
    "            if ConvergenceSuccess:\n",
    "                Methods2SuccessExp[method] += 1\n",
    "            A_exp,t0_exp = fit[0]\n",
    "        except:\n",
    "#            print(f\"Method {method} failed\")\n",
    "            pass\n",
    "fig,ax = plt.subplots(1,1,figsize = (10,10))\n",
    "ax.bar(Methods2SuccessExp.keys(),Methods2SuccessExp.values(),label = \"Exponential\")\n",
    "ax.set_xticklabels(Methods2SuccessExp.keys(),rotation = 90)\n"
   ]
  },
  {
   "cell_type": "markdown",
   "metadata": {},
   "source": [
    "# GRAVITY MODEL FIT"
   ]
  },
  {
   "cell_type": "code",
   "execution_count": null,
   "metadata": {},
   "outputs": [
    {
     "data": {
      "text/plain": [
       "{'Nelder-Mead': 0,\n",
       " 'Powell': 0,\n",
       " 'CG': 0,\n",
       " 'BFGS': 0,\n",
       " 'L-BFGS-B': 0,\n",
       " 'TNC': 0,\n",
       " 'COBYLA': 0,\n",
       " 'SLSQP': 0,\n",
       " 'trust-constr': 0,\n",
       " 'dogleg': 0,\n",
       " 'trust-ncg': 0,\n",
       " 'trust-exact': 0,\n",
       " 'trust-krylov': 0}"
      ]
     },
     "execution_count": 3,
     "metadata": {},
     "output_type": "execute_result"
    }
   ],
   "source": [
    "N_grids = 400\n",
    "# Range Parameters\n",
    "k_min = 0.1\n",
    "k_max = 100000\n",
    "# PL mi\n",
    "alpha_min = -3\n",
    "alpha_max = 3\n",
    "# PL mj\n",
    "gamma_min = -3\n",
    "gamma_max = 3\n",
    "# PL d0\n",
    "d0_min = 0.0001\n",
    "d0_max = 1\n",
    "k = np.random.uniform(k_min,k_max)\n",
    "alpha = np.random.uniform(alpha_min,alpha_max)\n",
    "gamma = np.random.uniform(gamma_min,gamma_max)\n",
    "d0 = np.random.uniform(d0_min,d0_max)\n",
    "dij = np.random.uniform(d0, N_grids**2)\n",
    "mi = np.random.exponential(d0, N_grids)\n",
    "mi_alpha = mi**alpha\n",
    "mj = mi\n",
    "mj_gamma = mj**gamma\n",
    "MiMj = np.meshgrid(mi,mj).reshape(N_grids**2)\n",
    "Tij = k*MiMj/np.exp(dij*d0)\n",
    "fit,StdError,ConvergenceSuccess,y_fit,x,y_measured = FitAndStdErrorFromXY(Tij,np.array([mi,mj,dij]),\"powerlaw\",(1,-1),maxfev = 100000,interval = [],method = method)\n",
    "\n"
   ]
  },
  {
   "cell_type": "code",
   "execution_count": 18,
   "metadata": {},
   "outputs": [
    {
     "data": {
      "image/png": "[encoded data removed]",
      "text/plain": [
       "<Figure size 640x480 with 1 Axes>"
      ]
     },
     "metadata": {},
     "output_type": "display_data"
    }
   ],
   "source": [
    "mask = np.logical_and(np.array(time_) > 0, np.array(plaw_t) > 0)\n",
    "x = time_[mask]\n",
    "y_measured = plaw_t[mask]\n",
    "\n",
    "fig,ax = plt.subplots()\n",
    "ax.plot(x,y_measured,\"b-\")\n",
    "ax.plot(time_,plaw_t,\"r-\")\n",
    "ax.plot(time_,exp_t,\"g-\")\n",
    "ax.set_xscale(\"log\")\n",
    "ax.set_yscale(\"log\")"
   ]
  },
  {
   "cell_type": "code",
   "execution_count": 5,
   "metadata": {},
   "outputs": [
    {
     "name": "stdout",
     "output_type": "stream",
     "text": [
      "a{1} [id A]\n",
      "None\n",
      "b{2} [id A]\n",
      "None\n",
      "x{[1 2 3 4 5]} [id A]\n",
      "None\n"
     ]
    }
   ],
   "source": [
    "import pytensor\n",
    "import pytensor.tensor as pt\n",
    "from pytensor.graph.op import Op\n",
    "import numpy as np\n",
    "Name2DataAndParameters ={\"a\":1,\"b\":2,\"x\":np.array([1,2,3,4,5])}\n",
    "lambda x,a,b: a*np.exp(-b*x)\n",
    "class BestFit(Op):\n",
    "        def make_node(self,Name2DataAndParameters):\n",
    "            for Name,DataOrPar in Name2DataAndParameters.items():\n",
    "                DataOrPar = pt.as_tensor(DataOrPar,Name)\n",
    "                DataOrPar.dprint()\n",
    "                print(DataOrPar.owner)\n",
    "        def perform(self,inputs,outputs,function):\n",
    "            \n",
    "            pass\n",
    "bf = BestFit()\n",
    "bf.make_node(Name2DataAndParameters)\n",
    "bf.perform([],[],lambda x,a,b: a*np.exp(-b*x))"
   ]
  },
  {
   "cell_type": "code",
   "execution_count": null,
   "metadata": {},
   "outputs": [],
   "source": [
    "\n"
   ]
  }
 ],
 "metadata": {
  "kernelspec": {
   "display_name": "geostuff",
   "language": "python",
   "name": "python3"
  },
  "language_info": {
   "codemirror_mode": {
    "name": "ipython",
    "version": 3
   },
   "file_extension": ".py",
   "mimetype": "text/x-python",
   "name": "python",
   "nbconvert_exporter": "python",
   "pygments_lexer": "ipython3",
   "version": "3.12.2"
  }
 },
 "nbformat": 4,
 "nbformat_minor": 2
}
